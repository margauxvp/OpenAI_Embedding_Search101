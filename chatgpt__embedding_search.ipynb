{
  "cells": [
    {
      "cell_type": "markdown",
      "source": [
        "#### __Use case__\n",
        "Knowledge bases in enterprises are very common in the industry today and can have extensive number of documents in different categories. Retrieving relevant content based on a user query is a challenging task. This notebook walks through on how leverage Azure OpenAI models to create embeddings from the documents, store them in memory, and leverage vector similarity search to extract text based on query.\n",
        "\n",
        "#### __Step-by-step process flow__\n",
        "\n",
        "1. Read news articles and count the number of tokens (chunking)\n",
        "2. Create embeddings using the embeddings model in Azure OpenAI\n",
        "3. Leverage vector similarity to get top n similar chunks\n",
        "4. Take top n similar texts as context and prompt engineer into passage based QnA solution"
      ],
      "metadata": {
        "nteract": {
          "transient": {
            "deleting": false
          }
        }
      }
    },
    {
      "cell_type": "markdown",
      "source": [
        "#### __Step 0: Configure connection parameters__"
      ],
      "metadata": {
        "nteract": {
          "transient": {
            "deleting": false
          }
        }
      }
    },
    {
      "cell_type": "code",
      "source": [
        "!pip install openai\r\n",
        "!pip install azure-identity\r\n",
        "!pip install azure-keyvault-secrets\r\n",
        "!pip install pandas\r\n",
        "!pip install matplotlib\r\n",
        "!pip install plotly\r\n",
        "!pip install scipy\r\n",
        "!pip install scikit-learn\r\n",
        "!pip install transformers\r\n",
        "!pip install azure-storage-blob"
      ],
      "outputs": [
        {
          "output_type": "stream",
          "name": "stdout",
          "text": "Requirement already satisfied: openai in /anaconda/envs/azureml_py38/lib/python3.8/site-packages (0.27.8)\nRequirement already satisfied: requests>=2.20 in /anaconda/envs/azureml_py38/lib/python3.8/site-packages (from openai) (2.28.2)\nRequirement already satisfied: aiohttp in /anaconda/envs/azureml_py38/lib/python3.8/site-packages (from openai) (3.8.4)\nRequirement already satisfied: tqdm in /anaconda/envs/azureml_py38/lib/python3.8/site-packages (from openai) (4.64.1)\nRequirement already satisfied: urllib3<1.27,>=1.21.1 in /anaconda/envs/azureml_py38/lib/python3.8/site-packages (from requests>=2.20->openai) (1.26.14)\nRequirement already satisfied: idna<4,>=2.5 in /anaconda/envs/azureml_py38/lib/python3.8/site-packages (from requests>=2.20->openai) (3.4)\nRequirement already satisfied: charset-normalizer<4,>=2 in /anaconda/envs/azureml_py38/lib/python3.8/site-packages (from requests>=2.20->openai) (3.0.1)\nRequirement already satisfied: certifi>=2017.4.17 in /anaconda/envs/azureml_py38/lib/python3.8/site-packages (from requests>=2.20->openai) (2022.9.24)\nRequirement already satisfied: async-timeout<5.0,>=4.0.0a3 in /anaconda/envs/azureml_py38/lib/python3.8/site-packages (from aiohttp->openai) (4.0.2)\nRequirement already satisfied: aiosignal>=1.1.2 in /anaconda/envs/azureml_py38/lib/python3.8/site-packages (from aiohttp->openai) (1.3.1)\nRequirement already satisfied: frozenlist>=1.1.1 in /anaconda/envs/azureml_py38/lib/python3.8/site-packages (from aiohttp->openai) (1.3.3)\nRequirement already satisfied: multidict<7.0,>=4.5 in /anaconda/envs/azureml_py38/lib/python3.8/site-packages (from aiohttp->openai) (6.0.4)\nRequirement already satisfied: yarl<2.0,>=1.0 in /anaconda/envs/azureml_py38/lib/python3.8/site-packages (from aiohttp->openai) (1.8.2)\nRequirement already satisfied: attrs>=17.3.0 in /anaconda/envs/azureml_py38/lib/python3.8/site-packages (from aiohttp->openai) (22.2.0)\nRequirement already satisfied: azure-identity in /anaconda/envs/azureml_py38/lib/python3.8/site-packages (1.7.0)\nRequirement already satisfied: msal-extensions~=0.3.0 in /anaconda/envs/azureml_py38/lib/python3.8/site-packages (from azure-identity) (0.3.1)\nRequirement already satisfied: azure-core<2.0.0,>=1.11.0 in /anaconda/envs/azureml_py38/lib/python3.8/site-packages (from azure-identity) (1.26.3)\nRequirement already satisfied: cryptography>=2.5 in /anaconda/envs/azureml_py38/lib/python3.8/site-packages (from azure-identity) (38.0.4)\nRequirement already satisfied: six>=1.12.0 in /anaconda/envs/azureml_py38/lib/python3.8/site-packages (from azure-identity) (1.16.0)\nRequirement already satisfied: msal<2.0.0,>=1.12.0 in /anaconda/envs/azureml_py38/lib/python3.8/site-packages (from azure-identity) (1.21.0)\nRequirement already satisfied: portalocker<3,>=1.0; python_version >= \"3.5\" and platform_system != \"Windows\" in /anaconda/envs/azureml_py38/lib/python3.8/site-packages (from msal-extensions~=0.3.0->azure-identity) (2.7.0)\nRequirement already satisfied: requests>=2.18.4 in /anaconda/envs/azureml_py38/lib/python3.8/site-packages (from azure-core<2.0.0,>=1.11.0->azure-identity) (2.28.2)\nRequirement already satisfied: typing-extensions>=4.0.1 in /anaconda/envs/azureml_py38/lib/python3.8/site-packages (from azure-core<2.0.0,>=1.11.0->azure-identity) (4.4.0)\nRequirement already satisfied: cffi>=1.12 in /anaconda/envs/azureml_py38/lib/python3.8/site-packages (from cryptography>=2.5->azure-identity) (1.15.1)\nRequirement already satisfied: PyJWT[crypto]<3,>=1.0.0 in /anaconda/envs/azureml_py38/lib/python3.8/site-packages (from msal<2.0.0,>=1.12.0->azure-identity) (2.4.0)\nRequirement already satisfied: certifi>=2017.4.17 in /anaconda/envs/azureml_py38/lib/python3.8/site-packages (from requests>=2.18.4->azure-core<2.0.0,>=1.11.0->azure-identity) (2022.9.24)\nRequirement already satisfied: charset-normalizer<4,>=2 in /anaconda/envs/azureml_py38/lib/python3.8/site-packages (from requests>=2.18.4->azure-core<2.0.0,>=1.11.0->azure-identity) (3.0.1)\nRequirement already satisfied: idna<4,>=2.5 in /anaconda/envs/azureml_py38/lib/python3.8/site-packages (from requests>=2.18.4->azure-core<2.0.0,>=1.11.0->azure-identity) (3.4)\nRequirement already satisfied: urllib3<1.27,>=1.21.1 in /anaconda/envs/azureml_py38/lib/python3.8/site-packages (from requests>=2.18.4->azure-core<2.0.0,>=1.11.0->azure-identity) (1.26.14)\nRequirement already satisfied: pycparser in /anaconda/envs/azureml_py38/lib/python3.8/site-packages (from cffi>=1.12->cryptography>=2.5->azure-identity) (2.21)\nRequirement already satisfied: azure-keyvault-secrets in /anaconda/envs/azureml_py38/lib/python3.8/site-packages (4.7.0)\nRequirement already satisfied: azure-common~=1.1 in /anaconda/envs/azureml_py38/lib/python3.8/site-packages (from azure-keyvault-secrets) (1.1.28)\nRequirement already satisfied: azure-core<2.0.0,>=1.24.0 in /anaconda/envs/azureml_py38/lib/python3.8/site-packages (from azure-keyvault-secrets) (1.26.3)\nRequirement already satisfied: isodate>=0.6.1 in /anaconda/envs/azureml_py38/lib/python3.8/site-packages (from azure-keyvault-secrets) (0.6.1)\nRequirement already satisfied: typing-extensions>=4.0.1 in /anaconda/envs/azureml_py38/lib/python3.8/site-packages (from azure-keyvault-secrets) (4.4.0)\nRequirement already satisfied: requests>=2.18.4 in /anaconda/envs/azureml_py38/lib/python3.8/site-packages (from azure-core<2.0.0,>=1.24.0->azure-keyvault-secrets) (2.28.2)\nRequirement already satisfied: six>=1.11.0 in /anaconda/envs/azureml_py38/lib/python3.8/site-packages (from azure-core<2.0.0,>=1.24.0->azure-keyvault-secrets) (1.16.0)\nRequirement already satisfied: idna<4,>=2.5 in /anaconda/envs/azureml_py38/lib/python3.8/site-packages (from requests>=2.18.4->azure-core<2.0.0,>=1.24.0->azure-keyvault-secrets) (3.4)\nRequirement already satisfied: certifi>=2017.4.17 in /anaconda/envs/azureml_py38/lib/python3.8/site-packages (from requests>=2.18.4->azure-core<2.0.0,>=1.24.0->azure-keyvault-secrets) (2022.9.24)\nRequirement already satisfied: urllib3<1.27,>=1.21.1 in /anaconda/envs/azureml_py38/lib/python3.8/site-packages (from requests>=2.18.4->azure-core<2.0.0,>=1.24.0->azure-keyvault-secrets) (1.26.14)\nRequirement already satisfied: charset-normalizer<4,>=2 in /anaconda/envs/azureml_py38/lib/python3.8/site-packages (from requests>=2.18.4->azure-core<2.0.0,>=1.24.0->azure-keyvault-secrets) (3.0.1)\nRequirement already satisfied: pandas in /anaconda/envs/azureml_py38/lib/python3.8/site-packages (1.1.5)\nRequirement already satisfied: numpy>=1.15.4 in /anaconda/envs/azureml_py38/lib/python3.8/site-packages (from pandas) (1.21.6)\nRequirement already satisfied: python-dateutil>=2.7.3 in /anaconda/envs/azureml_py38/lib/python3.8/site-packages (from pandas) (2.8.2)\nRequirement already satisfied: pytz>=2017.2 in /anaconda/envs/azureml_py38/lib/python3.8/site-packages (from pandas) (2022.5)\nRequirement already satisfied: six>=1.5 in /anaconda/envs/azureml_py38/lib/python3.8/site-packages (from python-dateutil>=2.7.3->pandas) (1.16.0)\nRequirement already satisfied: matplotlib in /anaconda/envs/azureml_py38/lib/python3.8/site-packages (3.2.1)\nRequirement already satisfied: python-dateutil>=2.1 in /anaconda/envs/azureml_py38/lib/python3.8/site-packages (from matplotlib) (2.8.2)\nRequirement already satisfied: numpy>=1.11 in /anaconda/envs/azureml_py38/lib/python3.8/site-packages (from matplotlib) (1.21.6)\nRequirement already satisfied: cycler>=0.10 in /anaconda/envs/azureml_py38/lib/python3.8/site-packages (from matplotlib) (0.11.0)\nRequirement already satisfied: kiwisolver>=1.0.1 in /anaconda/envs/azureml_py38/lib/python3.8/site-packages (from matplotlib) (1.4.4)\nRequirement already satisfied: pyparsing!=2.0.4,!=2.1.2,!=2.1.6,>=2.0.1 in /anaconda/envs/azureml_py38/lib/python3.8/site-packages (from matplotlib) (3.0.9)\nRequirement already satisfied: six>=1.5 in /anaconda/envs/azureml_py38/lib/python3.8/site-packages (from python-dateutil>=2.1->matplotlib) (1.16.0)\nRequirement already satisfied: plotly in /anaconda/envs/azureml_py38/lib/python3.8/site-packages (5.14.1)\nRequirement already satisfied: packaging in /anaconda/envs/azureml_py38/lib/python3.8/site-packages (from plotly) (21.3)\nRequirement already satisfied: tenacity>=6.2.0 in /anaconda/envs/azureml_py38/lib/python3.8/site-packages (from plotly) (8.2.1)\nRequirement already satisfied: pyparsing!=3.0.5,>=2.0.2 in /anaconda/envs/azureml_py38/lib/python3.8/site-packages (from packaging->plotly) (3.0.9)\nRequirement already satisfied: scipy in /anaconda/envs/azureml_py38/lib/python3.8/site-packages (1.5.3)\nRequirement already satisfied: numpy>=1.14.5 in /anaconda/envs/azureml_py38/lib/python3.8/site-packages (from scipy) (1.21.6)\nRequirement already satisfied: scikit-learn in /anaconda/envs/azureml_py38/lib/python3.8/site-packages (0.22.1)\nRequirement already satisfied: joblib>=0.11 in /anaconda/envs/azureml_py38/lib/python3.8/site-packages (from scikit-learn) (0.14.1)\nRequirement already satisfied: numpy>=1.11.0 in /anaconda/envs/azureml_py38/lib/python3.8/site-packages (from scikit-learn) (1.21.6)\nRequirement already satisfied: scipy>=0.17.0 in /anaconda/envs/azureml_py38/lib/python3.8/site-packages (from scikit-learn) (1.5.3)\nRequirement already satisfied: transformers in /anaconda/envs/azureml_py38/lib/python3.8/site-packages (4.16.0)\nRequirement already satisfied: packaging>=20.0 in /anaconda/envs/azureml_py38/lib/python3.8/site-packages (from transformers) (21.3)\nRequirement already satisfied: filelock in /anaconda/envs/azureml_py38/lib/python3.8/site-packages (from transformers) (3.9.0)\nRequirement already satisfied: tokenizers!=0.11.3,>=0.10.1 in /anaconda/envs/azureml_py38/lib/python3.8/site-packages (from transformers) (0.13.2)\nRequirement already satisfied: pyyaml>=5.1 in /anaconda/envs/azureml_py38/lib/python3.8/site-packages (from transformers) (6.0)\nRequirement already satisfied: requests in /anaconda/envs/azureml_py38/lib/python3.8/site-packages (from transformers) (2.28.2)\nRequirement already satisfied: tqdm>=4.27 in /anaconda/envs/azureml_py38/lib/python3.8/site-packages (from transformers) (4.64.1)\nRequirement already satisfied: huggingface-hub<1.0,>=0.1.0 in /anaconda/envs/azureml_py38/lib/python3.8/site-packages (from transformers) (0.12.0)\nRequirement already satisfied: sacremoses in /anaconda/envs/azureml_py38/lib/python3.8/site-packages (from transformers) (0.0.53)\nRequirement already satisfied: numpy>=1.17 in /anaconda/envs/azureml_py38/lib/python3.8/site-packages (from transformers) (1.21.6)\nRequirement already satisfied: regex!=2019.12.17 in /anaconda/envs/azureml_py38/lib/python3.8/site-packages (from transformers) (2022.10.31)\nRequirement already satisfied: pyparsing!=3.0.5,>=2.0.2 in /anaconda/envs/azureml_py38/lib/python3.8/site-packages (from packaging>=20.0->transformers) (3.0.9)\nRequirement already satisfied: idna<4,>=2.5 in /anaconda/envs/azureml_py38/lib/python3.8/site-packages (from requests->transformers) (3.4)\nRequirement already satisfied: charset-normalizer<4,>=2 in /anaconda/envs/azureml_py38/lib/python3.8/site-packages (from requests->transformers) (3.0.1)\nRequirement already satisfied: certifi>=2017.4.17 in /anaconda/envs/azureml_py38/lib/python3.8/site-packages (from requests->transformers) (2022.9.24)\nRequirement already satisfied: urllib3<1.27,>=1.21.1 in /anaconda/envs/azureml_py38/lib/python3.8/site-packages (from requests->transformers) (1.26.14)\nRequirement already satisfied: typing-extensions>=3.7.4.3 in /anaconda/envs/azureml_py38/lib/python3.8/site-packages (from huggingface-hub<1.0,>=0.1.0->transformers) (4.4.0)\nRequirement already satisfied: click in /anaconda/envs/azureml_py38/lib/python3.8/site-packages (from sacremoses->transformers) (8.1.3)\nRequirement already satisfied: joblib in /anaconda/envs/azureml_py38/lib/python3.8/site-packages (from sacremoses->transformers) (0.14.1)\nRequirement already satisfied: six in /anaconda/envs/azureml_py38/lib/python3.8/site-packages (from sacremoses->transformers) (1.16.0)\nRequirement already satisfied: azure-storage-blob in /anaconda/envs/azureml_py38/lib/python3.8/site-packages (12.13.0)\nRequirement already satisfied: msrest>=0.6.21 in /anaconda/envs/azureml_py38/lib/python3.8/site-packages (from azure-storage-blob) (0.7.1)\nRequirement already satisfied: cryptography>=2.1.4 in /anaconda/envs/azureml_py38/lib/python3.8/site-packages (from azure-storage-blob) (38.0.4)\nRequirement already satisfied: azure-core<2.0.0,>=1.23.1 in /anaconda/envs/azureml_py38/lib/python3.8/site-packages (from azure-storage-blob) (1.26.3)\nRequirement already satisfied: certifi>=2017.4.17 in /anaconda/envs/azureml_py38/lib/python3.8/site-packages (from msrest>=0.6.21->azure-storage-blob) (2022.9.24)\nRequirement already satisfied: requests~=2.16 in /anaconda/envs/azureml_py38/lib/python3.8/site-packages (from msrest>=0.6.21->azure-storage-blob) (2.28.2)\nRequirement already satisfied: isodate>=0.6.0 in /anaconda/envs/azureml_py38/lib/python3.8/site-packages (from msrest>=0.6.21->azure-storage-blob) (0.6.1)\nRequirement already satisfied: requests-oauthlib>=0.5.0 in /anaconda/envs/azureml_py38/lib/python3.8/site-packages (from msrest>=0.6.21->azure-storage-blob) (1.3.1)\nRequirement already satisfied: cffi>=1.12 in /anaconda/envs/azureml_py38/lib/python3.8/site-packages (from cryptography>=2.1.4->azure-storage-blob) (1.15.1)\nRequirement already satisfied: six>=1.11.0 in /anaconda/envs/azureml_py38/lib/python3.8/site-packages (from azure-core<2.0.0,>=1.23.1->azure-storage-blob) (1.16.0)\nRequirement already satisfied: typing-extensions>=4.0.1 in /anaconda/envs/azureml_py38/lib/python3.8/site-packages (from azure-core<2.0.0,>=1.23.1->azure-storage-blob) (4.4.0)\nRequirement already satisfied: charset-normalizer<4,>=2 in /anaconda/envs/azureml_py38/lib/python3.8/site-packages (from requests~=2.16->msrest>=0.6.21->azure-storage-blob) (3.0.1)\nRequirement already satisfied: urllib3<1.27,>=1.21.1 in /anaconda/envs/azureml_py38/lib/python3.8/site-packages (from requests~=2.16->msrest>=0.6.21->azure-storage-blob) (1.26.14)\nRequirement already satisfied: idna<4,>=2.5 in /anaconda/envs/azureml_py38/lib/python3.8/site-packages (from requests~=2.16->msrest>=0.6.21->azure-storage-blob) (3.4)\nRequirement already satisfied: oauthlib>=3.0.0 in /anaconda/envs/azureml_py38/lib/python3.8/site-packages (from requests-oauthlib>=0.5.0->msrest>=0.6.21->azure-storage-blob) (3.2.2)\nRequirement already satisfied: pycparser in /anaconda/envs/azureml_py38/lib/python3.8/site-packages (from cffi>=1.12->cryptography>=2.1.4->azure-storage-blob) (2.21)\n"
        }
      ],
      "execution_count": 1,
      "metadata": {
        "jupyter": {
          "source_hidden": false,
          "outputs_hidden": false
        },
        "nteract": {
          "transient": {
            "deleting": false
          }
        }
      }
    },
    {
      "cell_type": "code",
      "source": [
        "import openai\n",
        "import os\n",
        "import re\n",
        "import requests\n",
        "import sys\n",
        "import pandas as pd\n",
        "from openai.embeddings_utils import get_embedding, cosine_similarity\n",
        "from azure.identity import DefaultAzureCredential\n",
        "from azure.keyvault.secrets import SecretClient"
      ],
      "outputs": [],
      "execution_count": 2,
      "metadata": {
        "gather": {
          "logged": 1690812487780
        }
      }
    },
    {
      "cell_type": "code",
      "source": [
        "OPENAI_API_KEY = \"<INSERT-YOUR-API-KEY>\" # to be completed\n",
        "AZURE_OPENAI_RESOURCE_ENDPOINT = \"<INSERT-YOUR-RESOURCE-ENDPOINT>\" # to be completed\n",
        "\n",
        "\n",
        "openai.api_type = \"azure\"\n",
        "openai.api_key = OPENAI_API_KEY\n",
        "openai.api_base = AZURE_OPENAI_RESOURCE_ENDPOINT\n",
        "\n",
        "# Enter connection string to connect with Blob storage (in your blob storage, find the access keys tab and retreive your connection string)\n",
        "STORAGE_ACCOUNT_CONNECTION_STRING = \"<INSERT-YOUR-STORAGE-ACCOUNT-CONNECTION-STRING>\" # to be completed"
      ],
      "outputs": [],
      "execution_count": 3,
      "metadata": {
        "gather": {
          "logged": 1690812491280
        }
      }
    },
    {
      "cell_type": "markdown",
      "source": [
        "#### __Step 1: Tokenization__\n",
        "Read news articles and count the number of tokens (chunking)\n",
        "\n",
        "https://platform.openai.com/tokenizer"
      ],
      "metadata": {}
    },
    {
      "cell_type": "code",
      "source": [
        "from transformers import GPT2TokenizerFast\n",
        "tokenizer = GPT2TokenizerFast.from_pretrained('gpt2')\n",
        "print(tokenizer.encode('Hi there'))\n",
        "print(len(tokenizer.encode('Hi there')))\n",
        "print(tokenizer.encode('Let us build a poc on azure openai'))\n",
        "print(len(tokenizer.encode('Let us build a poc on azure openai')))"
      ],
      "outputs": [
        {
          "output_type": "stream",
          "name": "stdout",
          "text": "[17250, 612]\n2\n[5756, 514, 1382, 257, 279, 420, 319, 35560, 495, 1280, 1872]\n11\n"
        }
      ],
      "execution_count": 4,
      "metadata": {
        "gather": {
          "logged": 1690812506354
        }
      }
    },
    {
      "cell_type": "code",
      "source": [
        "import pandas as pd\n",
        "from azure.storage.blob import BlobServiceClient\n",
        "\n",
        "# Connect to the Azure Storage container\n",
        "connection_string = STORAGE_ACCOUNT_CONNECTION_STRING\n",
        "container_name = \"sampledata\"\n",
        "blob_name = \"sample_data_dayinlifeofdatascientist.json\"\n",
        "\n",
        "blob_service_client = BlobServiceClient.from_connection_string(connection_string)\n",
        "container_client = blob_service_client.get_container_client(container_name)\n",
        "blob_client = container_client.get_blob_client(blob_name)\n",
        "\n",
        "# Download the JSON file from Azure Storage\n",
        "downloaded_blob = blob_client.download_blob()\n",
        "json_data = downloaded_blob.readall()\n",
        "\n"
      ],
      "outputs": [
        {
          "output_type": "stream",
          "name": "stdout",
          "text": "huggingface/tokenizers: The current process just got forked, after parallelism has already been used. Disabling parallelism to avoid deadlocks...\nTo disable this warning, you can either:\n\t- Avoid using `tokenizers` before the fork if possible\n\t- Explicitly set the environment variable TOKENIZERS_PARALLELISM=(true | false)\n"
        }
      ],
      "execution_count": 5,
      "metadata": {
        "gather": {
          "logged": 1690812539369
        }
      }
    },
    {
      "cell_type": "code",
      "source": [
        "import io \n",
        "\n",
        "# Convert the bytes data to a file-like object\n",
        "file_obj = io.BytesIO(json_data)\n",
        "\n",
        "# Load JSON data into a Pandas DataFrame\n",
        "df = pd.read_json(file_obj, orient='records')\n",
        "\n",
        "# Access the articles data\n",
        "#articles_df = df['articles']\n",
        "\n",
        "# Create a new DataFrame with 'header' and 'body' as separate columns\n",
        "articles_df = pd.DataFrame(df['articles'].tolist())\n",
        "\n",
        "# Access the 'header' and 'body' columns\n",
        "header_column = articles_df['header']\n",
        "body_column = articles_df['body']\n",
        "\n",
        "# Print the resulting DataFrame\n",
        "print(articles_df)"
      ],
      "outputs": [
        {
          "output_type": "stream",
          "name": "stdout",
          "text": "                                              header  \\\n0  Paris to charge SUV drivers higher parking fee...   \n1  Trump asks for classified documents trial to t...   \n2          Tom Holland: ‘I felt enslaved to alcohol’   \n3  Six dead as tourist helicopter crashes in Ever...   \n\n                                                body  \n0  Paris city hall is to impose higher parking fe...  \n1  Donald Trump asked the federal judge overseein...  \n2  Tom Holland, the British actor best known for ...  \n3  All six people onboard a tourist helicopter in...  \n"
        }
      ],
      "execution_count": 6,
      "metadata": {
        "gather": {
          "logged": 1690812587671
        }
      }
    },
    {
      "cell_type": "code",
      "source": [
        "articles_df['#tokens'] = articles_df['body'].apply(lambda x: len(tokenizer.encode(x)))\n",
        "articles_df.head()"
      ],
      "outputs": [
        {
          "output_type": "execute_result",
          "execution_count": 7,
          "data": {
            "text/plain": "                                              header  \\\n0  Paris to charge SUV drivers higher parking fee...   \n1  Trump asks for classified documents trial to t...   \n2          Tom Holland: ‘I felt enslaved to alcohol’   \n3  Six dead as tourist helicopter crashes in Ever...   \n\n                                                body  #tokens  \n0  Paris city hall is to impose higher parking fe...      503  \n1  Donald Trump asked the federal judge overseein...      510  \n2  Tom Holland, the British actor best known for ...      670  \n3  All six people onboard a tourist helicopter in...      590  ",
            "text/html": "<div>\n<style scoped>\n    .dataframe tbody tr th:only-of-type {\n        vertical-align: middle;\n    }\n\n    .dataframe tbody tr th {\n        vertical-align: top;\n    }\n\n    .dataframe thead th {\n        text-align: right;\n    }\n</style>\n<table border=\"1\" class=\"dataframe\">\n  <thead>\n    <tr style=\"text-align: right;\">\n      <th></th>\n      <th>header</th>\n      <th>body</th>\n      <th>#tokens</th>\n    </tr>\n  </thead>\n  <tbody>\n    <tr>\n      <th>0</th>\n      <td>Paris to charge SUV drivers higher parking fee...</td>\n      <td>Paris city hall is to impose higher parking fe...</td>\n      <td>503</td>\n    </tr>\n    <tr>\n      <th>1</th>\n      <td>Trump asks for classified documents trial to t...</td>\n      <td>Donald Trump asked the federal judge overseein...</td>\n      <td>510</td>\n    </tr>\n    <tr>\n      <th>2</th>\n      <td>Tom Holland: ‘I felt enslaved to alcohol’</td>\n      <td>Tom Holland, the British actor best known for ...</td>\n      <td>670</td>\n    </tr>\n    <tr>\n      <th>3</th>\n      <td>Six dead as tourist helicopter crashes in Ever...</td>\n      <td>All six people onboard a tourist helicopter in...</td>\n      <td>590</td>\n    </tr>\n  </tbody>\n</table>\n</div>"
          },
          "metadata": {}
        }
      ],
      "execution_count": 7,
      "metadata": {
        "gather": {
          "logged": 1690812594531
        }
      }
    },
    {
      "cell_type": "markdown",
      "source": [
        "#### __Step 2:  Create embeddings__\r\n",
        "Create embeddings using the embeddings model in Azure OpenAI"
      ],
      "metadata": {}
    },
    {
      "cell_type": "code",
      "source": [
        "#from openai.embeddings_utils import get_embedding, cosine_similarity\n",
        "\n",
        "openai.api_type = \"azure\"\n",
        "openai.api_key = OPENAI_API_KEY\n",
        "openai.api_base = AZURE_OPENAI_RESOURCE_ENDPOINT\n",
        "openai.api_version = \"2022-12-01\"\n",
        "\n",
        "url = openai.api_base + \"/openai/deployments?api-version=2022-12-01\" \n",
        "\n",
        "r = requests.get(url, headers={\"api-key\": OPENAI_API_KEY})\n",
        "\n",
        "print(r.text)"
      ],
      "outputs": [
        {
          "output_type": "stream",
          "name": "stdout",
          "text": "{\n  \"data\": [\n    {\n      \"scale_settings\": {\n        \"scale_type\": \"standard\"\n      },\n      \"model\": \"text-embedding-ada-002\",\n      \"owner\": \"organization-owner\",\n      \"id\": \"text-embedding-ada-002\",\n      \"status\": \"succeeded\",\n      \"created_at\": 1689094873,\n      \"updated_at\": 1689094873,\n      \"object\": \"deployment\"\n    },\n    {\n      \"scale_settings\": {\n        \"scale_type\": \"standard\"\n      },\n      \"model\": \"gpt-35-turbo\",\n      \"owner\": \"organization-owner\",\n      \"id\": \"gpt-35-turbo\",\n      \"status\": \"succeeded\",\n      \"created_at\": 1689107924,\n      \"updated_at\": 1689107924,\n      \"object\": \"deployment\"\n    }\n  ],\n  \"object\": \"list\"\n}\n"
        }
      ],
      "execution_count": 8,
      "metadata": {
        "gather": {
          "logged": 1690812642455
        }
      }
    },
    {
      "cell_type": "code",
      "source": [
        "pd.options.mode.chained_assignment = None #https://pandas.pydata.org/pandas-docs/stable/user_guide/indexing.html#evaluation-order-matters\n",
        "\n",
        "# s is input text\n",
        "def normalize_text(s, sep_token = \" \\n \"):\n",
        "    s = re.sub(r'\\s+',  ' ', s).strip()\n",
        "    s = re.sub(r\". ,\",\"\",s)\n",
        "    # remove all instances of multiple spaces\n",
        "    s = s.replace(\"..\",\".\")\n",
        "    s = s.replace(\". .\",\".\")\n",
        "    s = s.replace(\"\\n\", \"\")\n",
        "    s = s.strip()\n",
        "    \n",
        "    return s\n",
        "\n",
        "articles_df['body']= articles_df[\"body\"].apply(lambda x : normalize_text(x))\n",
        "articles_df"
      ],
      "outputs": [
        {
          "output_type": "execute_result",
          "execution_count": 9,
          "data": {
            "text/plain": "                                              header  \\\n0  Paris to charge SUV drivers higher parking fee...   \n1  Trump asks for classified documents trial to t...   \n2          Tom Holland: ‘I felt enslaved to alcohol’   \n3  Six dead as tourist helicopter crashes in Ever...   \n\n                                                body  #tokens  \n0  Paris city hall is to impose higher parking fe...      503  \n1  Donald Trump asked the federal judge overseein...      510  \n2  Tom Holland, the British actor best known for ...      670  \n3  All six people onboard a tourist helicopter in...      590  ",
            "text/html": "<div>\n<style scoped>\n    .dataframe tbody tr th:only-of-type {\n        vertical-align: middle;\n    }\n\n    .dataframe tbody tr th {\n        vertical-align: top;\n    }\n\n    .dataframe thead th {\n        text-align: right;\n    }\n</style>\n<table border=\"1\" class=\"dataframe\">\n  <thead>\n    <tr style=\"text-align: right;\">\n      <th></th>\n      <th>header</th>\n      <th>body</th>\n      <th>#tokens</th>\n    </tr>\n  </thead>\n  <tbody>\n    <tr>\n      <th>0</th>\n      <td>Paris to charge SUV drivers higher parking fee...</td>\n      <td>Paris city hall is to impose higher parking fe...</td>\n      <td>503</td>\n    </tr>\n    <tr>\n      <th>1</th>\n      <td>Trump asks for classified documents trial to t...</td>\n      <td>Donald Trump asked the federal judge overseein...</td>\n      <td>510</td>\n    </tr>\n    <tr>\n      <th>2</th>\n      <td>Tom Holland: ‘I felt enslaved to alcohol’</td>\n      <td>Tom Holland, the British actor best known for ...</td>\n      <td>670</td>\n    </tr>\n    <tr>\n      <th>3</th>\n      <td>Six dead as tourist helicopter crashes in Ever...</td>\n      <td>All six people onboard a tourist helicopter in...</td>\n      <td>590</td>\n    </tr>\n  </tbody>\n</table>\n</div>"
          },
          "metadata": {}
        }
      ],
      "execution_count": 9,
      "metadata": {
        "gather": {
          "logged": 1690812652601
        }
      }
    },
    {
      "cell_type": "code",
      "source": [
        "get_embedding(\"hello\", engine = 'text-embedding-ada-002')"
      ],
      "outputs": [
        {
          "output_type": "execute_result",
          "execution_count": 10,
          "data": {
            "text/plain": "[-0.02504645101726055,\n -0.01940273866057396,\n -0.027782395482063293,\n -0.03103380836546421,\n -0.024649936705827713,\n 0.027438750490546227,\n -0.012470357120037079,\n -0.00849861092865467,\n -0.01743338815867901,\n -0.008465568535029888,\n 0.03254055976867676,\n 0.004275739658623934,\n -0.024583851918578148,\n -0.0006298786029219627,\n 0.01412910595536232,\n -0.0015034478856250644,\n 0.03938703238964081,\n 0.002009002957493067,\n 0.026843979954719543,\n -0.012569485232234001,\n -0.02101522870361805,\n 0.008881907910108566,\n 0.008445742540061474,\n -0.0030630684923380613,\n -0.005362848285585642,\n -0.00950311217457056,\n 0.01106934156268835,\n -0.0016967483097687364,\n 0.003452973673120141,\n -0.023235704749822617,\n 0.006730820517987013,\n -0.007903840392827988,\n -0.02392299473285675,\n -0.008901732973754406,\n 0.00683986209332943,\n -0.01367972418665886,\n 0.00950311217457056,\n -0.014115888625383377,\n 0.02176860347390175,\n -0.010573700070381165,\n 0.0034133223816752434,\n -0.014591705054044724,\n 0.005243894178420305,\n -0.014935350976884365,\n -0.03187970444560051,\n 0.016243845224380493,\n -0.0054388465359807014,\n -0.0066713434644043446,\n -0.009661718271672726,\n 0.03478747233748436,\n 0.026315294206142426,\n 0.009238770231604576,\n -0.019614212214946747,\n -0.00800296850502491,\n -0.005660233553498983,\n -0.0057329279370605946,\n -0.013653289526700974,\n 0.006162484176456928,\n 0.0009260248043574393,\n -0.03859400376677513,\n -0.00041613291250541806,\n 0.018993007019162178,\n -0.015397950075566769,\n 0.01872866600751877,\n -0.00037792715011164546,\n 0.010851259343326092,\n 0.019085528329014778,\n 0.004057657439261675,\n -0.00471851322799921,\n 0.02208581566810608,\n 0.025152187794446945,\n 0.017327649518847466,\n 0.006886121816933155,\n -0.018041374161839485,\n 0.019111961126327515,\n -0.010824824683368206,\n -0.007328895386308432,\n -0.005376065615564585,\n -0.014591705054044724,\n 0.0013654942158609629,\n 0.015820898115634918,\n -0.024887844920158386,\n -0.008452351205050945,\n 0.013382338918745518,\n 0.018834402784705162,\n 0.015212910249829292,\n -0.02178182080388069,\n 0.023817257955670357,\n -0.009813714772462845,\n -0.02889263443648815,\n -0.0016909658443182707,\n 0.018001724034547806,\n 0.008809213526546955,\n 0.024874627590179443,\n -0.021477827802300453,\n 0.002858203137293458,\n -0.014895698986947536,\n 0.03161536157131195,\n -0.0018685709219425917,\n -0.00835983082652092,\n -0.0013200603425502777,\n 0.01367972418665886,\n -0.0006868774653412402,\n -0.004943204578012228,\n -0.0324612595140934,\n -0.009463461115956306,\n -0.011935063637793064,\n -0.007348721381276846,\n 0.02373795583844185,\n 0.009932668879628181,\n -0.005253807175904512,\n 0.026592854410409927,\n -0.002458385191857815,\n -0.044383104890584946,\n -0.015014653094112873,\n -0.006549085024744272,\n -0.0051976339891552925,\n -0.0037140119820833206,\n -0.012212622910737991,\n -0.020724451169371605,\n 0.016746096312999725,\n 0.002233694074675441,\n 0.026843979954719543,\n -0.003525668056681752,\n 0.022019729018211365,\n 0.004490518011152744,\n -0.01734086684882641,\n -0.01690470241010189,\n 0.00449382234364748,\n -0.006407001055777073,\n 0.03367723152041435,\n 0.0037007948849350214,\n -0.0038296617567539215,\n -0.004450866486877203,\n -0.02047332562506199,\n 0.019336653873324394,\n -0.021398523822426796,\n 0.02504645101726055,\n -0.03962494060397148,\n -0.026725025847554207,\n -0.014340580441057682,\n 0.0326462984085083,\n -0.00037359027191996574,\n -0.003525668056681752,\n -0.023328224197030067,\n 0.0084920022636652,\n 0.013230341486632824,\n -0.001108586322516203,\n 0.006694473791867495,\n -0.014446317218244076,\n 0.0008467220468446612,\n 0.0013051910791546106,\n 0.012225840240716934,\n -0.004503735341131687,\n 0.002070132177323103,\n 0.013587203808128834,\n -0.010091274976730347,\n 0.008452351205050945,\n -0.006760559044778347,\n -0.013137822039425373,\n -0.011974714696407318,\n 0.003068024991080165,\n 0.012662005610764027,\n -0.008683650754392147,\n -0.010461353696882725,\n 0.02302423119544983,\n 0.017644861713051796,\n 0.01658749207854271,\n -0.0014406666159629822,\n -0.00304654729552567,\n 0.011439421214163303,\n 0.011082558892667294,\n -0.03518398478627205,\n 0.02137209102511406,\n 0.0026054256595671177,\n 0.009873191826045513,\n 0.018213197588920593,\n 0.015926634892821312,\n -0.024160902947187424,\n -0.04158107191324234,\n -0.016177760437130928,\n 0.008511828258633614,\n 0.019230917096138,\n 0.03840896487236023,\n -0.012602528557181358,\n 0.009337898343801498,\n 0.01716904528439045,\n 0.00963528361171484,\n 0.0026235992554575205,\n -0.020896274596452713,\n 0.008743127807974815,\n 0.02240302599966526,\n 0.03349219262599945,\n -0.01332947053015232,\n -0.7050542831420898,\n -0.00577918766066432,\n 0.026500334963202477,\n 0.009218944236636162,\n 0.013573986478149891,\n 0.04832180589437485,\n 0.02508610300719738,\n 0.013084953650832176,\n -0.022429460659623146,\n 0.03737802803516388,\n 0.012556267902255058,\n 0.017499472945928574,\n 0.007117421366274357,\n -0.009390766732394695,\n 0.008947993628680706,\n 0.0009061991004273295,\n -0.0034298438113182783,\n -0.0031688055023550987,\n 0.005987357348203659,\n 0.0020767406094819307,\n -0.013223732821643353,\n 0.006879513151943684,\n -0.02003716118633747,\n 0.015212910249829292,\n 0.00455990806221962,\n 0.0031060243491083384,\n 0.01699722185730934,\n -0.00745445815846324,\n -0.012714873999357224,\n 0.02118705026805401,\n -0.013355904258787632,\n 0.005934488959610462,\n 0.007176898419857025,\n -0.004074178636074066,\n 0.038884781301021576,\n -0.0031241977121680975,\n 0.007679149508476257,\n 0.0227070190012455,\n 0.009291638620197773,\n 0.039730675518512726,\n -0.010653002187609673,\n -0.016693228855729103,\n 0.0034926251973956823,\n -0.002423690166324377,\n 0.012265491299331188,\n 0.006188918370753527,\n -0.001186236971989274,\n -0.0009342854609712958,\n -0.0003229934663977474,\n -0.007705583702772856,\n 0.014975002035498619,\n 5.834121475345455e-05,\n -0.02217833511531353,\n 0.004867206327617168,\n 0.005233981180936098,\n -0.00985997449606657,\n 0.0161381084471941,\n -0.01801494136452675,\n 0.0038131403271108866,\n 0.023645436391234398,\n 0.009509720839560032,\n -0.0025624700356274843,\n -0.01604558899998665,\n -0.006905947346240282,\n -0.01461813971400261,\n 0.00196109083481133,\n -0.013600421138107777,\n -0.015160041861236095,\n -0.005775883328169584,\n 0.0031737620010972023,\n -0.003836270421743393,\n 0.014287712052464485,\n -0.012192796915769577,\n 0.003274542512372136,\n 0.012866870500147343,\n 0.026817545294761658,\n 0.0189533568918705,\n -0.015226127579808235,\n -0.006813427899032831,\n 0.009423810057342052,\n 0.004447562620043755,\n -0.007176898419857025,\n -0.015715161338448524,\n -0.013600421138107777,\n 0.03536902368068695,\n -0.014988219365477562,\n -0.024306291714310646,\n 0.0038461831863969564,\n 0.0029870702419430017,\n 0.010580307804048061,\n 0.027755960822105408,\n 0.028601856902241707,\n 0.007434632629156113,\n -0.024782108142971992,\n -0.0037999232299625874,\n 0.0009070251835510135,\n -0.027491619810461998,\n 0.009555980563163757,\n -0.0011251077521592379,\n -0.027888132259249687,\n -0.0026417728513479233,\n -0.0005076201632618904,\n -0.012820610776543617,\n -0.011723589152097702,\n 0.0343380905687809,\n 0.009893017821013927,\n -0.02445168048143387,\n 0.03909625485539436,\n 0.026037735864520073,\n -0.01878153346478939,\n -0.0038164446596056223,\n 0.006397088058292866,\n -0.008657217025756836,\n 0.012470357120037079,\n 0.009172684513032436,\n -0.026843979954719543,\n -0.004305478185415268,\n 0.015622640959918499,\n 0.022059381008148193,\n -0.026751460507512093,\n -0.006390479858964682,\n 0.000594770594034344,\n 0.01887405291199684,\n -0.0038594002835452557,\n -0.001507578301243484,\n 0.025958431884646416,\n 0.0008880255627445877,\n -0.007494109682738781,\n -0.01788276992738247,\n 0.009509720839560032,\n 0.016666794195771217,\n -0.002114739967510104,\n 0.007976534776389599,\n -0.014380231499671936,\n 0.015477253124117851,\n -0.02427985705435276,\n -0.002650033449754119,\n -0.022601282224059105,\n -0.0022237813100218773,\n -0.005300066899508238,\n 0.004573124926537275,\n 0.003578536445274949,\n -0.007447849493473768,\n -0.005432238336652517,\n 0.004523560870438814,\n -0.011902020312845707,\n -0.006212048698216677,\n -0.006311176810413599,\n -0.0014637965941801667,\n 0.003160544903948903,\n 0.010507614351809025,\n 0.003163849236443639,\n -0.003951920196413994,\n 0.017591992393136024,\n 0.02227085456252098,\n -0.01685183309018612,\n 0.007784886285662651,\n -0.012774351052939892,\n -0.023671869188547134,\n -0.008815822191536427,\n -0.007725409232079983,\n 0.014499185606837273,\n -0.023407528176903725,\n -0.002103175036609173,\n -0.007963317446410656,\n -0.027200842276215553,\n 0.0037371418438851833,\n 0.010078057646751404,\n 0.005792404990643263,\n -0.0457841195166111,\n 0.025284359231591225,\n -0.020235417410731316,\n -0.021715736016631126,\n 0.014181974343955517,\n 0.018860837444663048,\n 0.004966334439814091,\n -0.011670720763504505,\n 0.004619385115802288,\n -0.003145675640553236,\n -0.013289818540215492,\n 0.008108706213533878,\n -0.00455990806221962,\n -0.008604347705841064,\n 0.005947705823928118,\n 0.026791110634803772,\n -0.0011870629386976361,\n 0.005967531818896532,\n 0.022561632096767426,\n -0.02150426246225834,\n 0.018662579357624054,\n 0.01213992852717638,\n 0.014010151848196983,\n -0.014723876491189003,\n 1.0745367035269737e-05,\n 0.013785460963845253,\n 0.0021956947166472673,\n 0.0007575064664706588,\n 0.009489895775914192,\n 0.006033617537468672,\n 0.01735408417880535,\n 0.03618848696351051,\n -0.01412910595536232,\n 0.018398236483335495,\n -0.022244419902563095,\n -0.016217412427067757,\n -0.02669859118759632,\n -0.003647926263511181,\n -0.01568872667849064,\n 0.02034115418791771,\n 0.025641221553087234,\n -0.006165788508951664,\n -0.014168757945299149,\n 0.0029556795489042997,\n 0.003099415684118867,\n 0.02508610300719738,\n 0.03576553985476494,\n -0.01061995979398489,\n 0.00784436333924532,\n -0.014234842732548714,\n -0.0072363754734396935,\n -0.0015331864124163985,\n -0.010315965861082077,\n 0.00827392004430294,\n -0.003998180385679007,\n 0.007626280654221773,\n 0.02285240776836872,\n 0.014935350976884365,\n 0.03240839019417763,\n 0.005405804142355919,\n -0.0016339670401066542,\n -0.014274494722485542,\n 0.011016473174095154,\n 0.009800497442483902,\n 0.010527439415454865,\n -0.0002552557270973921,\n -0.011650895699858665,\n 0.013005650602281094,\n -0.021477827802300453,\n 0.03153605759143829,\n -0.020063595846295357,\n -0.0011589765781536698,\n 0.03211761265993118,\n 0.03412661701440811,\n -0.034100182354450226,\n 0.0009706325945444405,\n 0.016693228855729103,\n 0.008181399665772915,\n 0.004701992031186819,\n 0.023645436391234398,\n 0.026315294206142426,\n 0.0011564984451979399,\n 0.0038792260456830263,\n 0.002114739967510104,\n -0.008637391030788422,\n 0.0018338760128244758,\n -0.02047332562506199,\n -0.01191523764282465,\n 0.010025189258158207,\n 0.015886982902884483,\n 0.025271141901612282,\n 0.0017760511254891753,\n 0.011049516499042511,\n 0.0062979599460959435,\n -0.0009037209092639387,\n 0.010038405656814575,\n 0.007613063789904118,\n -0.007963317446410656,\n -0.007765060756355524,\n -0.0018487452762201428,\n 0.006552389357239008,\n 0.008082271553575993,\n -0.0029755050782114267,\n 0.032223351299762726,\n -0.03103380836546421,\n 0.02356613241136074,\n 0.0074875010177493095,\n -0.003938703332096338,\n 0.005035724490880966,\n -0.01627027988433838,\n -0.0181074608117342,\n -0.023196052759885788,\n -0.026949716731905937,\n 0.004421127960085869,\n 0.010851259343326092,\n 0.010025189258158207,\n -0.008108706213533878,\n -0.05360865592956543,\n 0.0008822430390864611,\n 0.010375442914664745,\n 0.016706446185708046,\n 0.007269418332725763,\n 0.013117996044456959,\n 0.028284646570682526,\n -0.02172895334661007,\n -0.004629297647625208,\n 0.006393784191459417,\n 0.034893207252025604,\n -0.001619097776710987,\n 0.003223326290026307,\n 0.011142035946249962,\n -0.004388085566461086,\n 0.00046301240217871964,\n 0.015622640959918499,\n -0.019019441679120064,\n -0.004556603729724884,\n 0.004982856102287769,\n -0.011208121664822102,\n -0.011327075771987438,\n 0.0035223637241870165,\n 0.003005243605002761,\n -0.005144765600562096,\n 0.014988219365477562,\n -0.011260990053415298,\n -0.002154391258955002,\n 0.0027227276004850864,\n 0.002265084767714143,\n -0.020711233839392662,\n -0.0084920022636652,\n 0.020539412274956703,\n -0.02343396097421646,\n -0.01806780882179737,\n -0.009377549402415752,\n -0.001042500720359385,\n 0.010600133799016476,\n 0.0557233951985836,\n 0.02472924068570137,\n 0.002164304256439209,\n -0.013455032370984554,\n 0.0009879800491034985,\n 0.018926922231912613,\n -0.02048654295504093,\n -0.012979215942323208,\n -0.015041087754070759,\n -0.018437888473272324,\n 0.0022915189620107412,\n -0.009397375397384167,\n -0.020935924723744392,\n 0.03084876947104931,\n 0.017367301508784294,\n 0.0025129057466983795,\n 0.011148644611239433,\n -0.0029259410221129656,\n -0.003372018923982978,\n 0.0030729814898222685,\n -0.004265827126801014,\n -0.01291973888874054,\n 0.005091897211968899,\n 0.01767129637300968,\n 0.022204769775271416,\n -0.00699846725910902,\n 0.017446603626012802,\n 0.0227070190012455,\n -0.0004939900245517492,\n -0.014935350976884365,\n -0.003578536445274949,\n -4.708600681624375e-05,\n 0.01207384280860424,\n 0.008610956370830536,\n 0.012417488731443882,\n 0.024530982598662376,\n -0.013759026303887367,\n 0.014221626333892345,\n 0.008419307880103588,\n -0.0028449860401451588,\n 0.01220601424574852,\n 0.012457139790058136,\n 0.009959103539586067,\n -0.021491045132279396,\n 0.0011614548275247216,\n -0.010150752030313015,\n -0.013864764012396336,\n 0.02427985705435276,\n -0.006800210569053888,\n -0.015001436695456505,\n 0.03457599878311157,\n 0.002711162669584155,\n -0.017221912741661072,\n -0.017010439187288284,\n -0.003674360690638423,\n 0.006278133951127529,\n -0.01412910595536232,\n -0.0068927304819226265,\n -0.006879513151943684,\n -0.0023129968903958797,\n 0.0005026637809351087,\n -0.0199842918664217,\n -0.0005505758454091847,\n 0.005832056049257517,\n -0.029051240533590317,\n -0.039677806198596954,\n -0.026050953194499016,\n 7.062900840537623e-05,\n -0.012503399513661861,\n 0.008868690580129623,\n -0.01325677614659071,\n -0.0061195287853479385,\n -0.008954602293670177,\n -0.011564983986318111,\n 0.0009739368688315153,\n 0.013653289526700974,\n 0.0007149638258852065,\n -0.011598026379942894,\n 0.0202618520706892,\n 0.006007182877510786,\n -0.0016711401985958219,\n -0.03224978223443031,\n -0.0017248347867280245,\n -0.02369830384850502,\n -0.004966334439814091,\n -0.0030713293235749006,\n -0.006793601904064417,\n -0.0043847812339663506,\n -0.010798390954732895,\n 0.01658749207854271,\n 0.025654438883066177,\n 0.016508188098669052,\n -0.002666554879397154,\n -0.0011308902176097035,\n 0.009813714772462845,\n -0.0023989081382751465,\n 0.01332286186516285,\n 0.0060765729285776615,\n -0.011994540691375732,\n -0.011531941592693329,\n 0.011908628977835178,\n -0.005124940071254969,\n -0.006582127884030342,\n -0.009218944236636162,\n 0.017962072044610977,\n 0.00211804430000484,\n 0.01256287656724453,\n 0.02589234709739685,\n -0.004004788585007191,\n -0.010302748531103134,\n 0.03505181521177292,\n -0.012761133722960949,\n 0.01699722185730934,\n -0.002070132177323103,\n -0.004444258287549019,\n 0.006717603653669357,\n 0.006327698472887278,\n 0.02928914874792099,\n -0.026315294206142426,\n -0.0147767448797822,\n 0.003145675640553236,\n -0.05820821598172188,\n 0.01730121672153473,\n 0.007143856026232243,\n 0.005990661680698395,\n 0.00112345558591187,\n 0.019376304000616074,\n -0.013032084330916405,\n 0.0023030838929116726,\n 0.001623228075914085,\n -0.0071306386962533,\n 0.01568872667849064,\n -0.008174791932106018,\n -0.017380518838763237,\n -0.031641796231269836,\n -0.005947705823928118,\n -0.012199405580759048,\n 0.002712814835831523,\n -0.00919251050800085,\n -0.03647926449775696,\n -0.030029306188225746,\n -0.014948567375540733,\n 0.013131213374435902,\n -0.027385881170630455,\n -0.018094243481755257,\n -0.04713226482272148,\n -0.005144765600562096,\n 0.0058485777117311954,\n -0.0004692079091910273,\n 0.01364007219672203,\n -0.006565606687217951,\n 0.010177185758948326,\n -0.027465185150504112,\n -0.02799386903643608,\n -0.008531654253602028,\n -0.02409481815993786,\n -0.002217172645032406,\n -0.004682166501879692,\n 0.038461834192276,\n 0.028866199776530266,\n 0.015715161338448524,\n 0.012106886133551598,\n 0.00882903952151537,\n -0.005584235303103924,\n 0.0037338377442210913,\n 0.018252849578857422,\n -0.0006046834751032293,\n 0.004173307213932276,\n -0.010335790924727917,\n 0.014538836665451527,\n 0.025813044980168343,\n 0.03177396580576897,\n 0.0048341634683310986,\n -0.012166363187134266,\n 0.008214442990720272,\n 0.013891197741031647,\n -0.006932382006198168,\n -0.00022076728055253625,\n -0.005686667747795582,\n -0.01945560798048973,\n -0.013144430704414845,\n 0.0017727467929944396,\n -0.011902020312845707,\n 0.004705296363681555,\n 0.012880087830126286,\n -0.00919251050800085,\n 0.026090603321790695,\n 0.02780883014202118,\n 0.031007373705506325,\n 0.001441492699086666,\n 0.029950004070997238,\n -0.011175078339874744,\n 0.03071659803390503,\n 0.0101309260353446,\n 0.01797528937458992,\n 0.019283784553408623,\n -0.014234842732548714,\n -0.016838615760207176,\n -0.018636144697666168,\n 0.00976745504885912,\n -0.0011358465999364853,\n 0.02043367363512516,\n -0.015278995968401432,\n -0.007652715314179659,\n -0.017327649518847466,\n 0.029579924419522285,\n -0.012708265334367752,\n -0.008571305312216282,\n -0.006658126600086689,\n -0.010335790924727917,\n -0.012847045436501503,\n -0.03875260800123215,\n -0.014631357043981552,\n -0.008663824759423733,\n 0.004573124926537275,\n 0.00021828907483723015,\n -0.01658749207854271,\n 0.03322784975171089,\n -0.021900774911046028,\n -0.018266066908836365,\n 0.002423690166324377,\n -0.006258308421820402,\n 0.021041661500930786,\n -0.001170541625469923,\n 0.014856047928333282,\n 0.011142035946249962,\n -0.022878842428326607,\n -0.028628291562199593,\n -0.0003932094550691545,\n -0.011617852374911308,\n -0.014538836665451527,\n 0.02079053595662117,\n 0.0010846302611753345,\n 0.001091238809749484,\n -0.018054591491818428,\n 0.0003777206293307245,\n -0.010302748531103134,\n -0.017420170828700066,\n -0.009384158067405224,\n 0.012576093897223473,\n 0.017605209723114967,\n -0.008934776298701763,\n -0.01968029886484146,\n -0.004219566937536001,\n -0.02127956971526146,\n 0.026526769623160362,\n 0.01028292253613472,\n -0.010613351128995419,\n -0.008663824759423733,\n 0.004688774701207876,\n -0.014102672226727009,\n 0.01949525810778141,\n -0.012549660168588161,\n 0.009754237718880177,\n 0.02334144152700901,\n -0.01734086684882641,\n -0.017089741304516792,\n 0.005901446100324392,\n -0.018715448677539825,\n 0.014446317218244076,\n -0.007434632629156113,\n 0.014922133646905422,\n -0.012080451473593712,\n 0.0018702230881899595,\n 0.014565271325409412,\n -0.007672540843486786,\n -0.03127171844244003,\n -0.01212010346353054,\n -0.0020453499164432287,\n 0.026487117633223534,\n -0.024967148900032043,\n 0.015662292018532753,\n -0.0038759217131882906,\n 0.00013764396135229617,\n 0.014525620266795158,\n 0.000883069122210145,\n -0.012516616843640804,\n -0.02857542410492897,\n -0.020142897963523865,\n -0.0012300186790525913,\n 0.02602451853454113,\n 0.010659610852599144,\n -0.0025112535804510117,\n -0.0033670624252408743,\n -0.0028780288994312286,\n -0.026143472641706467,\n -0.03394157439470291,\n 0.008736519142985344,\n 0.0026070778258144855,\n -0.0007199202664196491,\n -0.012265491299331188,\n -0.013825112022459507,\n -0.003244803985580802,\n 0.008974427357316017,\n 0.014300928451120853,\n -0.02642103098332882,\n 0.025006799027323723,\n 0.015424384735524654,\n -0.03243482485413551,\n -0.0047912076115608215,\n -0.004920074716210365,\n -0.009080164134502411,\n -0.02981783263385296,\n 0.012959390878677368,\n -0.005316588561981916,\n -0.01945560798048973,\n 0.010005363263189793,\n -0.01756555773317814,\n -0.02003716118633747,\n 0.014895698986947536,\n 0.012516616843640804,\n 0.011518724262714386,\n 0.01390441507101059,\n 0.0077914949506521225,\n 0.017327649518847466,\n 0.01801494136452675,\n 0.006083181593567133,\n -0.008121922612190247,\n -0.019733166322112083,\n 0.012424097396433353,\n -0.018755098804831505,\n 0.012450531125068665,\n -0.007242984138429165,\n -0.011750023812055588,\n 0.02114740014076233,\n -0.015992721542716026,\n 0.019204482436180115,\n 0.006905947346240282,\n -0.02315640263259411,\n -0.0021411741618067026,\n -0.0004815989814233035,\n -0.0007562673417851329,\n -0.01792242005467415,\n -0.006502825301140547,\n -0.0026516856160014868,\n -0.011578201316297054,\n -0.023367876186966896,\n 0.007546978071331978,\n 0.011432812549173832,\n -0.011941672302782536,\n 0.015820898115634918,\n -0.004483909346163273,\n -0.002311344724148512,\n 0.0029127239249646664,\n -0.0036809691227972507,\n -0.0006600301712751389,\n -0.008174791932106018,\n -0.012027583085000515,\n -0.005851882044225931,\n -0.009403984062373638,\n 0.00043079565512016416,\n 0.0320911779999733,\n 0.010811608284711838,\n -0.024293074384331703,\n -0.01887405291199684,\n 0.008954602293670177,\n -0.019217699766159058,\n -0.008511828258633614,\n -0.005960923153907061,\n 0.0012589311227202415,\n 0.019349871203303337,\n 0.017737381160259247,\n 0.005825447849929333,\n 0.01716904528439045,\n -0.008776171132922173,\n 0.020512977614998817,\n -0.020222200080752373,\n -0.006972033064812422,\n 0.014684225432574749,\n 0.009099990129470825,\n 0.013461641035974026,\n -0.007223158609122038,\n -0.018570059910416603,\n -0.03312211483716965,\n 0.008022794499993324,\n 0.0013109735446050763,\n -0.010970213450491428,\n 0.01954812742769718,\n -0.01207384280860424,\n -0.018530407920479774,\n -0.013825112022459507,\n 0.008227660320699215,\n -0.028469685465097427,\n -0.007837754674255848,\n 0.031060243025422096,\n -0.0246763713657856,\n 0.0003417865664232522,\n 0.010395267978310585,\n -0.020803753286600113,\n -0.0018206589156761765,\n -0.017063308507204056,\n 0.0015497078420594335,\n -0.0016752704977989197,\n 0.016561057418584824,\n -0.005491715390235186,\n -0.00481764180585742,\n 0.02236337400972843,\n -0.031509626656770706,\n 0.020830187946558,\n 0.00883564818650484,\n -0.017287999391555786,\n 0.031086677685379982,\n -0.003259673248976469,\n 0.00683986209332943,\n -0.016865050420165062,\n 0.004943204578012228,\n -0.014142323285341263,\n 0.0004745773912873119,\n 0.01419519167393446,\n -0.01765807904303074,\n -0.02521827444434166,\n -0.03090163692831993,\n -0.021676084026694298,\n -0.0211077481508255,\n 0.01204740907996893,\n -0.030557991936802864,\n -0.001924743759445846,\n -0.002177521353587508,\n 0.01802815869450569,\n 0.0009821975836530328,\n -0.008875299245119095,\n -0.01321051549166441,\n -0.010362225584685802,\n -0.017724163830280304,\n 0.010302748531103134,\n -0.009582415223121643,\n 0.014750311151146889,\n -0.001170541625469923,\n 0.00013165494601707906,\n 0.011294032447040081,\n -0.01823963224887848,\n -0.018120678141713142,\n 0.007599846459925175,\n -0.001041674637235701,\n 0.015768028795719147,\n 0.026315294206142426,\n 0.20935925841331482,\n -0.013402163982391357,\n -0.006261612754315138,\n 0.047740254551172256,\n 0.016970787197351456,\n 0.012728091329336166,\n 0.0139308487996459,\n 0.013395555317401886,\n -0.004830859135836363,\n 0.03497251123189926,\n -0.015728378668427467,\n 0.011868977919220924,\n -0.016243845224380493,\n 0.006648213602602482,\n 0.014869265258312225,\n 0.0041039171628654,\n -0.025020016357302666,\n -0.01833215169608593,\n -0.023262139409780502,\n -0.0015951417153701186,\n -0.007137247361242771,\n -0.010388660244643688,\n -0.021477827802300453,\n -0.01519969291985035,\n 0.03616205230355263,\n 0.0005018376978114247,\n -0.00999214593321085,\n 0.00010547885176492855,\n 0.008842255920171738,\n 0.003016808768734336,\n -0.020142897963523865,\n -0.03774810582399368,\n 0.007897231727838516,\n 0.010117708705365658,\n -0.0058684032410383224,\n -0.002583947731181979,\n 0.00777827762067318,\n 0.0027838568203151226,\n 0.030795900151133537,\n 0.005124940071254969,\n 0.0020651756785809994,\n -0.0061823101714253426,\n 0.0034364524763077497,\n -0.005253807175904512,\n -0.014803179539740086,\n -0.0033274111337959766,\n ...]"
          },
          "metadata": {}
        }
      ],
      "execution_count": 10,
      "metadata": {
        "gather": {
          "logged": 1690812669289
        }
      }
    },
    {
      "cell_type": "code",
      "source": [
        "articles_df['ada_v2'] = articles_df['body'].apply(lambda x : get_embedding(x, engine = 'text-embedding-ada-002')) # engine should be set to the deployment name you chose when you deployed the text-embedding-ada-002 (Version 2) model"
      ],
      "outputs": [],
      "execution_count": 11,
      "metadata": {
        "gather": {
          "logged": 1690812674226
        }
      }
    },
    {
      "cell_type": "code",
      "source": [
        "articles_df"
      ],
      "outputs": [
        {
          "output_type": "execute_result",
          "execution_count": 12,
          "data": {
            "text/plain": "                                              header  \\\n0  Paris to charge SUV drivers higher parking fee...   \n1  Trump asks for classified documents trial to t...   \n2          Tom Holland: ‘I felt enslaved to alcohol’   \n3  Six dead as tourist helicopter crashes in Ever...   \n\n                                                body  #tokens  \\\n0  Paris city hall is to impose higher parking fe...      503   \n1  Donald Trump asked the federal judge overseein...      510   \n2  Tom Holland, the British actor best known for ...      670   \n3  All six people onboard a tourist helicopter in...      590   \n\n                                              ada_v2  \n0  [0.02916806936264038, 0.004837016109377146, 0....  \n1  [-0.034529391676187515, -0.007772498764097691,...  \n2  [0.014175072312355042, -0.03149457275867462, 0...  \n3  [-0.0024575560819357634, -0.01783216930925846,...  ",
            "text/html": "<div>\n<style scoped>\n    .dataframe tbody tr th:only-of-type {\n        vertical-align: middle;\n    }\n\n    .dataframe tbody tr th {\n        vertical-align: top;\n    }\n\n    .dataframe thead th {\n        text-align: right;\n    }\n</style>\n<table border=\"1\" class=\"dataframe\">\n  <thead>\n    <tr style=\"text-align: right;\">\n      <th></th>\n      <th>header</th>\n      <th>body</th>\n      <th>#tokens</th>\n      <th>ada_v2</th>\n    </tr>\n  </thead>\n  <tbody>\n    <tr>\n      <th>0</th>\n      <td>Paris to charge SUV drivers higher parking fee...</td>\n      <td>Paris city hall is to impose higher parking fe...</td>\n      <td>503</td>\n      <td>[0.02916806936264038, 0.004837016109377146, 0....</td>\n    </tr>\n    <tr>\n      <th>1</th>\n      <td>Trump asks for classified documents trial to t...</td>\n      <td>Donald Trump asked the federal judge overseein...</td>\n      <td>510</td>\n      <td>[-0.034529391676187515, -0.007772498764097691,...</td>\n    </tr>\n    <tr>\n      <th>2</th>\n      <td>Tom Holland: ‘I felt enslaved to alcohol’</td>\n      <td>Tom Holland, the British actor best known for ...</td>\n      <td>670</td>\n      <td>[0.014175072312355042, -0.03149457275867462, 0...</td>\n    </tr>\n    <tr>\n      <th>3</th>\n      <td>Six dead as tourist helicopter crashes in Ever...</td>\n      <td>All six people onboard a tourist helicopter in...</td>\n      <td>590</td>\n      <td>[-0.0024575560819357634, -0.01783216930925846,...</td>\n    </tr>\n  </tbody>\n</table>\n</div>"
          },
          "metadata": {}
        }
      ],
      "execution_count": 12,
      "metadata": {
        "gather": {
          "logged": 1690812675992
        }
      }
    },
    {
      "cell_type": "markdown",
      "source": [
        "#### __Step 3: Vector search__\r\n",
        "Leverage vector similarity to get top n similar chunks"
      ],
      "metadata": {}
    },
    {
      "cell_type": "code",
      "source": [
        "# search through the reviews for a specific product\n",
        "def search_docs(df, user_query, top_n=3, to_print=True):\n",
        "    embedding = get_embedding(\n",
        "        user_query,\n",
        "        engine=\"text-embedding-ada-002\" # engine should be set to the deployment name you chose when you deployed the text-embedding-ada-002 (Version 2) model\n",
        "    )\n",
        "    articles_df[\"similarities\"] = articles_df.ada_v2.apply(lambda x: cosine_similarity(x, embedding))\n",
        "\n",
        "    res = (\n",
        "        df.sort_values(\"similarities\", ascending=False)\n",
        "        .head(top_n)\n",
        "    )\n",
        "    if to_print:\n",
        "        display(res)\n",
        "    return res\n",
        "\n",
        "question = \"How many women were there during the helicopter crash in Nepal of July 11?\"\n",
        "res = search_docs(articles_df, question, top_n=1)"
      ],
      "outputs": [
        {
          "output_type": "display_data",
          "data": {
            "text/plain": "                                              header  \\\n3  Six dead as tourist helicopter crashes in Ever...   \n\n                                                body  #tokens  \\\n3  All six people onboard a tourist helicopter in...      590   \n\n                                              ada_v2  similarities  \n3  [-0.0024575560819357634, -0.01783216930925846,...      0.866517  ",
            "text/html": "<div>\n<style scoped>\n    .dataframe tbody tr th:only-of-type {\n        vertical-align: middle;\n    }\n\n    .dataframe tbody tr th {\n        vertical-align: top;\n    }\n\n    .dataframe thead th {\n        text-align: right;\n    }\n</style>\n<table border=\"1\" class=\"dataframe\">\n  <thead>\n    <tr style=\"text-align: right;\">\n      <th></th>\n      <th>header</th>\n      <th>body</th>\n      <th>#tokens</th>\n      <th>ada_v2</th>\n      <th>similarities</th>\n    </tr>\n  </thead>\n  <tbody>\n    <tr>\n      <th>3</th>\n      <td>Six dead as tourist helicopter crashes in Ever...</td>\n      <td>All six people onboard a tourist helicopter in...</td>\n      <td>590</td>\n      <td>[-0.0024575560819357634, -0.01783216930925846,...</td>\n      <td>0.866517</td>\n    </tr>\n  </tbody>\n</table>\n</div>"
          },
          "metadata": {}
        }
      ],
      "execution_count": 13,
      "metadata": {
        "gather": {
          "logged": 1690812680146
        }
      }
    },
    {
      "cell_type": "code",
      "source": [
        "pd.set_option('display.max_colwidth', None)\r\n",
        "str(res['body'])"
      ],
      "outputs": [
        {
          "output_type": "execute_result",
          "execution_count": 14,
          "data": {
            "text/plain": "'3    All six people onboard a tourist helicopter in Nepal have been killed after it crashed soon after takeoff in the Everest region. The Manang Air flight was heading for the capital, Kathmandu, from near Lukla, a gateway for climbing expeditions to the world’s highest peak, with five Mexican tourists – two men and three women – and a Nepali pilot onboard. The helicopter lost contact eight minutes after taking off on Tuesday morning, the Civil Aviation Authority of Nepal (CAAN) said in a statement. “The six bodies have been recovered and brought to Kathmandu,” Pratap Babu Tiwari, the general manager at the Tribhuvan international airport, told AFP. Two helicopters were deployed for search and rescue but could not land at the crash site because of the weather. “The teams on the ground brought the bodies to the helicopters which were able to land close by,” Tiwari said. Lhakpa Sherpa, a resident who joined search and rescue efforts, described the scene as “very scary”. “It looks like the helicopter first collided with a tree and then slammed on the floor. It has caused a small hole in the ground,” he said. Nepal’s prime minister, Pushpa Kamal Dahal, expressed grief over the incident, his office said on Twitter. Nepal has a booming private helicopter industry, flying tourists and goods to remote corners of the Himalayan nation where road access is limited. The country is notorious for its poor air safety, and Tuesday’s incident is the latest in a string of aviation crashes. One person was killed and four were injured in May when a helicopter crashed in eastern Nepal after dropping off goods for a hydroelectricity project. Multiple helicopter accidents claimed more than a dozen lives during rescue and relief operations in the aftermath of Nepal’s devastating 2015 earthquake. Plane crashes are also common in the Himalayan republic, home to remote and tricky runways flanked by snow-capped peaks that pose a challenge even for accomplished pilots. The weather can change quickly in the mountains, creating treacherous flying conditions, and Nepal’s poor safety record has been exacerbated by insufficient training and maintenance. All 72 people onboard a flight to the tourist city of Pokhara were killed in January when the plane plummeted into a steep gorge. In 2018, a US-Bangla Airlines plane crash-landed near Kathmandu’s international airport, killing 51 people and seriously injuring 20. In 1992, in Nepal’s deadliest air accident, all 167 people onboard a Pakistan International Airlines plane died when it crashed on approach to Kathmandu airport. The EU has banned all Nepali carriers from its airspace over safety concerns.\\nName: body, dtype: object'"
          },
          "metadata": {}
        }
      ],
      "execution_count": 14,
      "metadata": {
        "jupyter": {
          "source_hidden": false,
          "outputs_hidden": false
        },
        "nteract": {
          "transient": {
            "deleting": false
          }
        },
        "gather": {
          "logged": 1690812683467
        }
      }
    },
    {
      "cell_type": "markdown",
      "source": [
        "#### __Step 4: ChatGPT__\r\n",
        "Take top n similar texts as context and prompt engineer into passage based QnA solution"
      ],
      "metadata": {}
    },
    {
      "cell_type": "code",
      "source": [
        "openai.api_version = \"2023-05-15\" \r\n",
        "\r\n",
        "response = openai.ChatCompletion.create(\r\n",
        "    engine=\"gpt-35-turbo\", # The deployment name you chose when you deployed the GPT-35-Turbo or GPT-4 model.\r\n",
        "    messages=[\r\n",
        "        {\"role\": \"system\", \"content\": \"Assistant is a large language model trained by OpenAI. Only use the following information: \" + str(res[\"body\"])},\r\n",
        "        {\"role\": \"user\", \"content\": question}\r\n",
        "    ]\r\n",
        ")\r\n",
        "\r\n",
        "#print(response)\r\n",
        "\r\n",
        "print(response['choices'][0]['message']['content'])"
      ],
      "outputs": [
        {
          "output_type": "stream",
          "name": "stdout",
          "text": "There were three women onboard the tourist helicopter that crashed in Nepal on July 11.\n"
        }
      ],
      "execution_count": 16,
      "metadata": {
        "jupyter": {
          "source_hidden": false,
          "outputs_hidden": false
        },
        "nteract": {
          "transient": {
            "deleting": false
          }
        },
        "gather": {
          "logged": 1690812722785
        }
      }
    },
    {
      "cell_type": "markdown",
      "source": [
        "#### __Appendix__\r\n",
        "For potential debugging"
      ],
      "metadata": {
        "nteract": {
          "transient": {
            "deleting": false
          }
        }
      }
    },
    {
      "cell_type": "code",
      "source": [
        "'''\r\n",
        "# Load JSON data into a Pandas DataFrame\r\n",
        "df = pd.read_json(json_data, orient='records')\r\n",
        "\r\n",
        "# Access the articles data\r\n",
        "#articles_df = df['articles']\r\n",
        "\r\n",
        "# Create a new DataFrame with 'header' and 'body' as separate columns\r\n",
        "articles_df = pd.DataFrame(df['articles'].tolist())\r\n",
        "\r\n",
        "# Access the 'header' and 'body' columns\r\n",
        "header_column = articles_df['header']\r\n",
        "body_column = articles_df['body']\r\n",
        "\r\n",
        "# Print the resulting DataFrame\r\n",
        "articles_df\r\n",
        "'''"
      ],
      "outputs": [],
      "execution_count": null,
      "metadata": {
        "jupyter": {
          "source_hidden": false,
          "outputs_hidden": false
        },
        "nteract": {
          "transient": {
            "deleting": false
          }
        }
      }
    },
    {
      "cell_type": "code",
      "source": [
        "'''\r\n",
        "import math\r\n",
        "from openai.embeddings_utils import get_embedding, cosine_similarity\r\n",
        "\r\n",
        "# Define the chunk size\r\n",
        "CHUNK_SIZE = 1000\r\n",
        "\r\n",
        "import re\r\n",
        "\r\n",
        "# Perform light data cleaning (removing redudant whitespace and cleaning up punctuation)\r\n",
        "def normalize_text(s, sep_token = \" \\n \"):\r\n",
        "    s = re.sub(r'\\s+',  ' ', s).strip()\r\n",
        "    s = re.sub(r\". ,\",\"\",s)\r\n",
        "    # remove all instances of multiple spaces\r\n",
        "    s = s.replace(\"..\",\".\")\r\n",
        "    s = s.replace(\". .\",\".\")\r\n",
        "    s = s.replace(\"\\n\", \" \")\r\n",
        "    s = s.strip()\r\n",
        "    \r\n",
        "    return s\r\n",
        "\r\n",
        "def create_embeddings(text):\r\n",
        "    \"\"\"Splits the text into chunks and returns a list of (chunk text, embeddings).\"\"\"\r\n",
        "    # Calculate the number of chunks\r\n",
        "    num_chunks = math.ceil(len(text) / CHUNK_SIZE)\r\n",
        "\r\n",
        "    # Initialize an empty list to store the embeddings\r\n",
        "    embeddings = []\r\n",
        "\r\n",
        "    # Loop over the chunks of text\r\n",
        "    for i in range(num_chunks):\r\n",
        "        start = i * CHUNK_SIZE\r\n",
        "        end = (i + 1) * CHUNK_SIZE\r\n",
        "\r\n",
        "        chunk_text = text[start:end]\r\n",
        "        embedding = get_embedding(normalize_text(chunk_text), engine = TEXT_SEARCH_DOC_EMBEDDING_ENGINE)\r\n",
        "        embeddings.append((chunk_text, embedding))\r\n",
        "    return embeddings\r\n",
        "    \r\n",
        "def create_embeddings_for_query(query):\r\n",
        "    \"\"\"get embeddings for the given query.\"\"\"\r\n",
        "    return get_embedding(normalize_text(query), engine = TEXT_SEARCH_QUERY_EMBEDDING_ENGINE)\r\n",
        "\r\n",
        "'''"
      ],
      "outputs": [],
      "execution_count": null,
      "metadata": {
        "jupyter": {
          "source_hidden": false,
          "outputs_hidden": false
        },
        "nteract": {
          "transient": {
            "deleting": false
          }
        }
      }
    }
  ],
  "metadata": {
    "kernel_info": {
      "name": "python38-azureml"
    },
    "kernelspec": {
      "name": "python38-azureml",
      "language": "python",
      "display_name": "Python 3.8 - AzureML"
    },
    "language_info": {
      "name": "python",
      "version": "3.8.5",
      "mimetype": "text/x-python",
      "codemirror_mode": {
        "name": "ipython",
        "version": 3
      },
      "pygments_lexer": "ipython3",
      "nbconvert_exporter": "python",
      "file_extension": ".py"
    },
    "microsoft": {
      "host": {
        "AzureML": {
          "notebookHasBeenCompleted": true
        }
      },
      "ms_spell_check": {
        "ms_spell_check_language": "en"
      }
    },
    "nteract": {
      "version": "nteract-front-end@1.0.0"
    }
  },
  "nbformat": 4,
  "nbformat_minor": 2
}